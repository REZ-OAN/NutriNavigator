{
  "cells": [
    {
      "cell_type": "code",
      "execution_count": 181,
      "metadata": {
        "id": "D4pRV1ye1ubm"
      },
      "outputs": [],
      "source": [
        "foods_data =['Spinach (পালং শাক)','Cauliflower (ফুলকপি)','Cucumber (শসা)','Bottle Groud (লাউ)','Cabbage (বাধাঁকপি)','Tomato (টমেটো)','Sweet Pumpkin (মিষ্টি কুমড়া)',\n",
        "        'Brinjal (বেগুন)','Banana (কলা)','Gooseberry (আমলকী)','Ripe Papaya (পাকা পেঁপে)','Green Papaya (কাঁচা পেঁপে)','Guava(পেয়ারা)','Pomegranate (বেদানা)',\n",
        "        'Red Spinach (লালশাক)','Taro (কচু শাক)','Green Grapes (আঙ্গুর)','Orange (কমলা)','Blood Orange (মাল্টা)','Long Bean (বরবটি)','Bean  (সিম)','Apple (আপেল)',\n",
        "        'Dates (খেজুর)','Dragon Fruit (ড্রাগন ফলের)','Green Chilli (কাঁচা মরিচ)','Lemon (লেবু)','Carrot (গাজর)','Ginger (আদা)','Malabar Spinach (পুঁই শাক)',\n",
        "        'Water Melon (তরমুজ)','Sweet Potato  (মিষ্টি আলু)','Pumpkin Spinach (কুমড়ো শাক)','Bottle Gourd Leaf (লাউ শাক)','Green Peas (মটরশুঁটি)','Radish (মুলা)',\n",
        "        'Bitter Gourd (করলা)','Pointed Gourd (পটল)','Capsicum (মিষ্টি মরিচ)','Turnip (শালগম)','Okra (ঢেঁড়স)','White Pear (নাশপাতি)','Java Apple (জামরুল)']"
      ]
    },
    {
      "cell_type": "code",
      "execution_count": 182,
      "metadata": {
        "id": "lHJhGvCc28zF"
      },
      "outputs": [],
      "source": [
        "foods_data = sorted(foods_data)"
      ]
    },
    {
      "cell_type": "code",
      "execution_count": 183,
      "metadata": {
        "id": "hGMI1Uu93EhH"
      },
      "outputs": [],
      "source": [
        "food_for_cholestrerol = sorted(['Spinach (পালং শাক)','Malabar Spinach (পুঁই শাক)','Water Melon (তরমুজ)','Apple (আপেল)','Banana (কলা)','Taro (কচু শাক)','Ripe Papaya (পাকা পেঁপে)','Guava(পেয়ারা)'])"
      ]
    },
    {
      "cell_type": "code",
      "execution_count": 184,
      "metadata": {
        "id": "qoc7wqYd3QG9"
      },
      "outputs": [],
      "source": [
        "food_for_azma = sorted(['Carrot (গাজর)','Sweet Potato  (মিষ্টি আলু)','Bottle Gourd Leaf (লাউ শাক)','Spinach (পালং শাক)', 'Pumpkin Spinach (কুমড়ো শাক)','Apple (আপেল)','Banana (কলা)','Orange (কমলা)','Lemon (লেবু)','Ginger (আদা)'])"
      ]
    },
    {
      "cell_type": "code",
      "execution_count": 185,
      "metadata": {
        "id": "hMDWjFqb3Xvv"
      },
      "outputs": [],
      "source": [
        "food_for_diabetes = sorted(['Apple (আপেল)','Banana (কলা)','Bean  (সিম)','Bitter Gourd (করলা)','Brinjal (বেগুন)','Bottle Groud (লাউ)','Cabbage (বাধাঁকপি)','Capsicum (মিষ্টি মরিচ)','Carrot (গাজর)',\n",
        " 'Cauliflower (ফুলকপি)','Cucumber (শসা)','Dates (খেজুর)','Green Papaya (কাঁচা পেঁপে)','Green Peas (মটরশুঁটি)','Guava(পেয়ারা)','Java Apple (জামরুল)','Lemon (লেবু)',\n",
        " 'Long Bean (বরবটি)','Okra (ঢেঁড়স)','Pointed Gourd (পটল)','Radish (মুলা)','Sweet Pumpkin (মিষ্টি কুমড়া)','Tomato (টমেটো)','Turnip (শালগম)','Water Melon (তরমুজ)',\n",
        " 'White Pear (নাশপাতি)'])"
      ]
    },
    {
      "cell_type": "code",
      "execution_count": 186,
      "metadata": {
        "id": "oZOmSIKW3xRt"
      },
      "outputs": [],
      "source": [
        "food_for_hbp = sorted(['Spinach (পালং শাক)','Cauliflower (ফুলকপি)','Cucumber (শসা)','Bottle Groud (লাউ)','Cabbage (বাধাঁকপি)','Tomato (টমেটো)','Sweet Pumpkin (মিষ্টি কুমড়া)','Brinjal (বেগুন)',\n",
        "'Banana (কলা)','Gooseberry (আমলকী)','Ripe Papaya (পাকা পেঁপে)','Green Papaya (কাঁচা পেঁপে)','Guava(পেয়ারা)','Pomegranate (বেদানা)'])"
      ]
    },
    {
      "cell_type": "code",
      "execution_count": 187,
      "metadata": {
        "id": "7AJ2ft5W34J8"
      },
      "outputs": [],
      "source": [
        "food_for_lbp =sorted(['Red Spinach (লালশাক)','Taro (কচু শাক)','Green Grapes (আঙ্গুর)','Orange (কমলা)','Blood Orange (মাল্টা)'])"
      ]
    },
    {
      "cell_type": "code",
      "execution_count": 188,
      "metadata": {
        "id": "_ppJILj93-a5"
      },
      "outputs": [],
      "source": [
        "food_for_animia =sorted(['Long Bean (বরবটি)','Bean  (সিম)','Red Spinach (লালশাক)','Spinach (পালং শাক)','Taro (কচু শাক)','Apple (আপেল)','Guava(পেয়ারা)','Banana (কলা)','Dates (খেজুর)','Dragon Fruit (ড্রাগন ফলের)'])"
      ]
    },
    {
      "cell_type": "code",
      "execution_count": 189,
      "metadata": {
        "id": "xVZmMFaC4HD8"
      },
      "outputs": [],
      "source": [
        "food_for_allergy = sorted(['Banana (কলা)','Orange (কমলা)','Green Chilli (কাঁচা মরিচ)','Lemon (লেবু)','Cucumber (শসা)','Carrot (গাজর)','Ginger (আদা)','Cabbage (বাধাঁকপি)','Cauliflower (ফুলকপি)'])"
      ]
    },
    {
      "cell_type": "code",
      "execution_count": 190,
      "metadata": {
        "id": "BTNI3nVa4PVa"
      },
      "outputs": [],
      "source": [
        "import pandas as pd\n",
        "import random as rn\n",
        "import numpy as np\n",
        "from sklearn.metrics import confusion_matrix\n",
        "from sklearn.metrics import classification_report\n",
        "from sklearn.ensemble import RandomForestClassifier\n",
        "import matplotlib.pyplot as plt\n",
        "import seaborn as sns\n",
        "from sklearn.metrics import accuracy_score\n",
        "from imblearn.over_sampling import SMOTE\n"
      ]
    },
    {
      "cell_type": "code",
      "execution_count": 191,
      "metadata": {
        "id": "bsEcsDoG4hS9"
      },
      "outputs": [],
      "source": [
        "ages = np.random.randint(18, 61, size=1000)"
      ]
    },
    {
      "cell_type": "code",
      "execution_count": 192,
      "metadata": {
        "id": "ZmJRDscsSuHH"
      },
      "outputs": [],
      "source": [
        "genders = np.random.randint(0,2,size=1000)"
      ]
    },
    {
      "cell_type": "code",
      "execution_count": 193,
      "metadata": {
        "id": "b1M1ZDoF410m"
      },
      "outputs": [],
      "source": [
        "heights = np.round(np.random.uniform(1.5, 2, size=1000), 2)"
      ]
    },
    {
      "cell_type": "code",
      "execution_count": 194,
      "metadata": {
        "id": "YcM7o6CU5IEa"
      },
      "outputs": [],
      "source": [
        "weights = np.round(np.random.uniform(40,100,size=1000),2)"
      ]
    },
    {
      "cell_type": "code",
      "execution_count": 195,
      "metadata": {
        "id": "L4ouu47B5RhU"
      },
      "outputs": [],
      "source": [
        "bmi_values = [round(weight / (height ** 2), 4) for weight, height in zip(weights, heights)]"
      ]
    },
    {
      "cell_type": "code",
      "execution_count": 196,
      "metadata": {
        "id": "1YkJZVbg70s-"
      },
      "outputs": [],
      "source": [
        "smote = SMOTE(random_state=42,k_neighbors=2)"
      ]
    },
    {
      "cell_type": "code",
      "execution_count": 197,
      "metadata": {
        "id": "H9E1kat_5aFc"
      },
      "outputs": [],
      "source": [
        "## creating data frame for who can eat all of the foods\n",
        "recommended_foods = foods_data\n",
        "dieseas = np.full(1000, 0, dtype=int)\n",
        "\n",
        "data = {\n",
        "    'age': ages,\n",
        "    'bmi':bmi_values,\n",
        "    'gender':genders,\n",
        "    'dieseas':dieseas,\n",
        "    'recommended_food': rn.choices(recommended_foods, k=1000)\n",
        "}\n",
        "\n",
        "df1 = pd.DataFrame(data);"
      ]
    },
    {
      "cell_type": "code",
      "execution_count": 198,
      "metadata": {
        "id": "LR8xHPbn54xr"
      },
      "outputs": [],
      "source": [
        "X, Y = smote.fit_resample(df1.drop(columns='recommended_food'), df1['recommended_food'])\n",
        "df1 = pd.concat([X,Y], axis=1)"
      ]
    },
    {
      "cell_type": "code",
      "execution_count": 199,
      "metadata": {
        "colab": {
          "base_uri": "https://localhost:8080/"
        },
        "id": "CXTH2pRI6dJU",
        "outputId": "cac478a4-cb0e-475e-f58e-f051d2c713f5"
      },
      "outputs": [
        {
          "data": {
            "text/plain": [
              "(1428, 5)"
            ]
          },
          "execution_count": 199,
          "metadata": {},
          "output_type": "execute_result"
        }
      ],
      "source": [
        "df1.shape"
      ]
    },
    {
      "cell_type": "code",
      "execution_count": 200,
      "metadata": {
        "id": "kuVvqJRa_1PW"
      },
      "outputs": [],
      "source": [
        "## creating data frame for who have cholestrerol\n",
        "recommended_foods = food_for_cholestrerol\n",
        "dieseas = np.full(1000,5, dtype=int)\n",
        "\n",
        "data = {\n",
        "    'age': ages,\n",
        "    'bmi':bmi_values,\n",
        "    'gender':genders,\n",
        "    'dieseas':dieseas,\n",
        "    'recommended_food': rn.choices(recommended_foods, k=1000)\n",
        "}\n",
        "\n",
        "df2 = pd.DataFrame(data);"
      ]
    },
    {
      "cell_type": "code",
      "execution_count": 201,
      "metadata": {
        "id": "wA0REv9iAX1a"
      },
      "outputs": [],
      "source": [
        "X, Y = smote.fit_resample(df2.drop(columns='recommended_food'), df2['recommended_food'])\n",
        "df2 = pd.concat([X,Y], axis=1)"
      ]
    },
    {
      "cell_type": "code",
      "execution_count": 202,
      "metadata": {
        "colab": {
          "base_uri": "https://localhost:8080/"
        },
        "id": "8IV-_koBAf0-",
        "outputId": "fbd3b5ce-b78d-46cd-aaa4-2acc980e0a85"
      },
      "outputs": [
        {
          "data": {
            "text/plain": [
              "(1144, 5)"
            ]
          },
          "execution_count": 202,
          "metadata": {},
          "output_type": "execute_result"
        }
      ],
      "source": [
        "df2.shape"
      ]
    },
    {
      "cell_type": "code",
      "execution_count": 203,
      "metadata": {
        "id": "AB9QpcwRAl7v"
      },
      "outputs": [],
      "source": [
        "## creating data frame for who have azma\n",
        "recommended_foods = food_for_azma\n",
        "dieseas = np.full(1000,6, dtype=int)\n",
        "\n",
        "data = {\n",
        "    'age': ages,\n",
        "    'bmi':bmi_values,\n",
        "    'gender':genders,\n",
        "    'dieseas':dieseas,\n",
        "    'recommended_food': rn.choices(recommended_foods, k=1000)\n",
        "}\n",
        "\n",
        "df3 = pd.DataFrame(data);"
      ]
    },
    {
      "cell_type": "code",
      "execution_count": 204,
      "metadata": {
        "id": "cDS4J6-RA2Ji"
      },
      "outputs": [],
      "source": [
        "X, Y = smote.fit_resample(df3.drop(columns='recommended_food'), df3['recommended_food'])\n",
        "df3 = pd.concat([X,Y], axis=1)"
      ]
    },
    {
      "cell_type": "code",
      "execution_count": 205,
      "metadata": {
        "colab": {
          "base_uri": "https://localhost:8080/"
        },
        "id": "zD2PpE2kA330",
        "outputId": "1e2c61bc-f85d-431f-ffa5-0d8178bec33d"
      },
      "outputs": [
        {
          "data": {
            "text/plain": [
              "(1170, 5)"
            ]
          },
          "execution_count": 205,
          "metadata": {},
          "output_type": "execute_result"
        }
      ],
      "source": [
        "df3.shape"
      ]
    },
    {
      "cell_type": "code",
      "execution_count": 206,
      "metadata": {
        "id": "7uI3C8alBADR"
      },
      "outputs": [],
      "source": [
        "## creating data frame for who have diabetes\n",
        "recommended_foods = food_for_diabetes\n",
        "dieseas = np.full(1000,7, dtype=int)\n",
        "\n",
        "data = {\n",
        "    'age': ages,\n",
        "    'bmi':bmi_values,\n",
        "    'gender':genders,\n",
        "    'dieseas':dieseas,\n",
        "    'recommended_food': rn.choices(recommended_foods, k=1000)\n",
        "}\n",
        "\n",
        "df4 = pd.DataFrame(data);"
      ]
    },
    {
      "cell_type": "code",
      "execution_count": 207,
      "metadata": {
        "id": "hykdXR34BnYn"
      },
      "outputs": [],
      "source": [
        "X, Y = smote.fit_resample(df4.drop(columns='recommended_food'), df4['recommended_food'])\n",
        "df4 = pd.concat([X,Y], axis=1)"
      ]
    },
    {
      "cell_type": "code",
      "execution_count": 208,
      "metadata": {
        "colab": {
          "base_uri": "https://localhost:8080/"
        },
        "id": "6Ich4sUDBrB9",
        "outputId": "9752f991-3689-4197-cb68-ea1c28229ec0"
      },
      "outputs": [
        {
          "data": {
            "text/plain": [
              "(1274, 5)"
            ]
          },
          "execution_count": 208,
          "metadata": {},
          "output_type": "execute_result"
        }
      ],
      "source": [
        "df4.shape"
      ]
    },
    {
      "cell_type": "code",
      "execution_count": 209,
      "metadata": {
        "id": "hQDPVWelB4B0"
      },
      "outputs": [],
      "source": [
        "## creating data frame for who have high blood pressure\n",
        "recommended_foods = food_for_hbp\n",
        "dieseas = np.full(1000,1, dtype=int)\n",
        "\n",
        "data = {\n",
        "    'age': ages,\n",
        "    'bmi':bmi_values,\n",
        "    'gender':genders,\n",
        "    'dieseas':dieseas,\n",
        "    'recommended_food': rn.choices(recommended_foods, k=1000)\n",
        "}\n",
        "\n",
        "df5 = pd.DataFrame(data);"
      ]
    },
    {
      "cell_type": "code",
      "execution_count": 210,
      "metadata": {
        "id": "wjcSHWLYCeKE"
      },
      "outputs": [],
      "source": [
        "X, Y = smote.fit_resample(df5.drop(columns='recommended_food'), df5['recommended_food'])\n",
        "df5 = pd.concat([X,Y], axis=1)"
      ]
    },
    {
      "cell_type": "code",
      "execution_count": 211,
      "metadata": {
        "colab": {
          "base_uri": "https://localhost:8080/"
        },
        "id": "muwRPsmyCke4",
        "outputId": "e8f3a401-0a6d-4332-dc04-660b683cb667"
      },
      "outputs": [
        {
          "data": {
            "text/plain": [
              "(1162, 5)"
            ]
          },
          "execution_count": 211,
          "metadata": {},
          "output_type": "execute_result"
        }
      ],
      "source": [
        "df5.shape"
      ]
    },
    {
      "cell_type": "code",
      "execution_count": 212,
      "metadata": {
        "id": "za1tg3X2Cl4W"
      },
      "outputs": [],
      "source": [
        "## creating data frame for who have low blood pressure\n",
        "recommended_foods = food_for_lbp\n",
        "dieseas = np.full(1000,2, dtype=int)\n",
        "\n",
        "data = {\n",
        "    'age': ages,\n",
        "    'bmi':bmi_values,\n",
        "    'gender':genders,\n",
        "    'dieseas':dieseas,\n",
        "    'recommended_food': rn.choices(recommended_foods, k=1000)\n",
        "}\n",
        "\n",
        "df6 = pd.DataFrame(data);"
      ]
    },
    {
      "cell_type": "code",
      "execution_count": 213,
      "metadata": {
        "id": "p1u1aC61C5dI"
      },
      "outputs": [],
      "source": [
        "X, Y = smote.fit_resample(df6.drop(columns='recommended_food'), df6['recommended_food'])\n",
        "df6 = pd.concat([X,Y], axis=1)"
      ]
    },
    {
      "cell_type": "code",
      "execution_count": 214,
      "metadata": {
        "colab": {
          "base_uri": "https://localhost:8080/"
        },
        "id": "7NOX7TPMC9Yb",
        "outputId": "796a8796-9315-45e8-9668-5800503957f0"
      },
      "outputs": [
        {
          "data": {
            "text/plain": [
              "(1055, 5)"
            ]
          },
          "execution_count": 214,
          "metadata": {},
          "output_type": "execute_result"
        }
      ],
      "source": [
        "df6.shape"
      ]
    },
    {
      "cell_type": "code",
      "execution_count": 215,
      "metadata": {
        "id": "lizef6stDADE"
      },
      "outputs": [],
      "source": [
        "## creating data frame for who have animia\n",
        "recommended_foods = food_for_animia\n",
        "dieseas = np.full(1000,3, dtype=int)\n",
        "\n",
        "data = {\n",
        "    'age': ages,\n",
        "    'bmi':bmi_values,\n",
        "    'gender':genders,\n",
        "    'dieseas':dieseas,\n",
        "    'recommended_food': rn.choices(recommended_foods, k=1000)\n",
        "}\n",
        "\n",
        "df7 = pd.DataFrame(data);"
      ]
    },
    {
      "cell_type": "code",
      "execution_count": 216,
      "metadata": {
        "id": "So0nv8XFDfLE"
      },
      "outputs": [],
      "source": [
        "X, Y = smote.fit_resample(df7.drop(columns='recommended_food'), df7['recommended_food'])\n",
        "df7 = pd.concat([X,Y], axis=1)"
      ]
    },
    {
      "cell_type": "code",
      "execution_count": 217,
      "metadata": {
        "colab": {
          "base_uri": "https://localhost:8080/"
        },
        "id": "0uE0P5KwDjiS",
        "outputId": "8d83b1b0-7e84-448d-d076-54cd66540f3e"
      },
      "outputs": [
        {
          "data": {
            "text/plain": [
              "(1100, 5)"
            ]
          },
          "execution_count": 217,
          "metadata": {},
          "output_type": "execute_result"
        }
      ],
      "source": [
        "df7.shape"
      ]
    },
    {
      "cell_type": "code",
      "execution_count": 218,
      "metadata": {
        "id": "NgeAOKfqDlH7"
      },
      "outputs": [],
      "source": [
        "## creating data frame for who have allergy\n",
        "recommended_foods = food_for_allergy\n",
        "dieseas = np.full(1000,4, dtype=int)\n",
        "\n",
        "data = {\n",
        "    'age': ages,\n",
        "    'bmi':bmi_values,\n",
        "    'gender':genders,\n",
        "    'dieseas':dieseas,\n",
        "    'recommended_food': rn.choices(recommended_foods, k=1000)\n",
        "}\n",
        "\n",
        "df8 = pd.DataFrame(data);"
      ]
    },
    {
      "cell_type": "code",
      "execution_count": 219,
      "metadata": {
        "id": "M0ST5tr_Dpii"
      },
      "outputs": [],
      "source": [
        "X, Y = smote.fit_resample(df8.drop(columns='recommended_food'), df8['recommended_food'])\n",
        "df8 = pd.concat([X,Y], axis=1)"
      ]
    },
    {
      "cell_type": "code",
      "execution_count": 220,
      "metadata": {
        "colab": {
          "base_uri": "https://localhost:8080/"
        },
        "id": "BcFmf30kD1uf",
        "outputId": "a60b786c-90b6-44bf-87a5-e740a731c246"
      },
      "outputs": [
        {
          "data": {
            "text/plain": [
              "(1215, 5)"
            ]
          },
          "execution_count": 220,
          "metadata": {},
          "output_type": "execute_result"
        }
      ],
      "source": [
        "df8.shape"
      ]
    },
    {
      "cell_type": "code",
      "execution_count": 221,
      "metadata": {
        "id": "fmXV6GSqD23r"
      },
      "outputs": [],
      "source": [
        "df = pd.concat([df1,df2,df3,df4,df5,df6,df7,df8], ignore_index=True)"
      ]
    },
    {
      "cell_type": "code",
      "execution_count": 222,
      "metadata": {
        "colab": {
          "base_uri": "https://localhost:8080/"
        },
        "id": "DWpGiK5GEJwX",
        "outputId": "e351dc3d-bd1c-42bf-f17f-18809d19afe7"
      },
      "outputs": [
        {
          "data": {
            "text/plain": [
              "(9548, 5)"
            ]
          },
          "execution_count": 222,
          "metadata": {},
          "output_type": "execute_result"
        }
      ],
      "source": [
        "df.shape"
      ]
    },
    {
      "cell_type": "code",
      "execution_count": 223,
      "metadata": {
        "colab": {
          "base_uri": "https://localhost:8080/",
          "height": 363
        },
        "id": "YwDBwt0nEK-w",
        "outputId": "c0492afd-7c8e-4b25-d3c5-13d4ac6f6546"
      },
      "outputs": [
        {
          "data": {
            "text/html": [
              "<div>\n",
              "<style scoped>\n",
              "    .dataframe tbody tr th:only-of-type {\n",
              "        vertical-align: middle;\n",
              "    }\n",
              "\n",
              "    .dataframe tbody tr th {\n",
              "        vertical-align: top;\n",
              "    }\n",
              "\n",
              "    .dataframe thead th {\n",
              "        text-align: right;\n",
              "    }\n",
              "</style>\n",
              "<table border=\"1\" class=\"dataframe\">\n",
              "  <thead>\n",
              "    <tr style=\"text-align: right;\">\n",
              "      <th></th>\n",
              "      <th>age</th>\n",
              "      <th>bmi</th>\n",
              "      <th>gender</th>\n",
              "      <th>dieseas</th>\n",
              "      <th>recommended_food</th>\n",
              "    </tr>\n",
              "  </thead>\n",
              "  <tbody>\n",
              "    <tr>\n",
              "      <th>0</th>\n",
              "      <td>55</td>\n",
              "      <td>37.4273</td>\n",
              "      <td>0</td>\n",
              "      <td>0</td>\n",
              "      <td>Turnip (শালগম)</td>\n",
              "    </tr>\n",
              "    <tr>\n",
              "      <th>1</th>\n",
              "      <td>55</td>\n",
              "      <td>20.4901</td>\n",
              "      <td>1</td>\n",
              "      <td>0</td>\n",
              "      <td>Cabbage (বাধাঁকপি)</td>\n",
              "    </tr>\n",
              "    <tr>\n",
              "      <th>2</th>\n",
              "      <td>48</td>\n",
              "      <td>21.5182</td>\n",
              "      <td>0</td>\n",
              "      <td>0</td>\n",
              "      <td>Malabar Spinach (পুঁই শাক)</td>\n",
              "    </tr>\n",
              "    <tr>\n",
              "      <th>3</th>\n",
              "      <td>46</td>\n",
              "      <td>32.4948</td>\n",
              "      <td>1</td>\n",
              "      <td>0</td>\n",
              "      <td>Radish (মুলা)</td>\n",
              "    </tr>\n",
              "    <tr>\n",
              "      <th>4</th>\n",
              "      <td>32</td>\n",
              "      <td>21.8744</td>\n",
              "      <td>1</td>\n",
              "      <td>0</td>\n",
              "      <td>Pointed Gourd (পটল)</td>\n",
              "    </tr>\n",
              "    <tr>\n",
              "      <th>5</th>\n",
              "      <td>46</td>\n",
              "      <td>23.3362</td>\n",
              "      <td>1</td>\n",
              "      <td>0</td>\n",
              "      <td>Taro (কচু শাক)</td>\n",
              "    </tr>\n",
              "    <tr>\n",
              "      <th>6</th>\n",
              "      <td>58</td>\n",
              "      <td>20.4481</td>\n",
              "      <td>1</td>\n",
              "      <td>0</td>\n",
              "      <td>Guava(পেয়ারা)</td>\n",
              "    </tr>\n",
              "    <tr>\n",
              "      <th>7</th>\n",
              "      <td>53</td>\n",
              "      <td>33.4014</td>\n",
              "      <td>0</td>\n",
              "      <td>0</td>\n",
              "      <td>Ripe Papaya (পাকা পেঁপে)</td>\n",
              "    </tr>\n",
              "    <tr>\n",
              "      <th>8</th>\n",
              "      <td>25</td>\n",
              "      <td>14.6286</td>\n",
              "      <td>0</td>\n",
              "      <td>0</td>\n",
              "      <td>Green Papaya (কাঁচা পেঁপে)</td>\n",
              "    </tr>\n",
              "    <tr>\n",
              "      <th>9</th>\n",
              "      <td>55</td>\n",
              "      <td>34.0457</td>\n",
              "      <td>0</td>\n",
              "      <td>0</td>\n",
              "      <td>Dragon Fruit (ড্রাগন ফলের)</td>\n",
              "    </tr>\n",
              "  </tbody>\n",
              "</table>\n",
              "</div>"
            ],
            "text/plain": [
              "   age      bmi  gender  dieseas            recommended_food\n",
              "0   55  37.4273       0        0              Turnip (শালগম)\n",
              "1   55  20.4901       1        0          Cabbage (বাধাঁকপি)\n",
              "2   48  21.5182       0        0  Malabar Spinach (পুঁই শাক)\n",
              "3   46  32.4948       1        0               Radish (মুলা)\n",
              "4   32  21.8744       1        0         Pointed Gourd (পটল)\n",
              "5   46  23.3362       1        0              Taro (কচু শাক)\n",
              "6   58  20.4481       1        0              Guava(পেয়ারা)\n",
              "7   53  33.4014       0        0    Ripe Papaya (পাকা পেঁপে)\n",
              "8   25  14.6286       0        0  Green Papaya (কাঁচা পেঁপে)\n",
              "9   55  34.0457       0        0  Dragon Fruit (ড্রাগন ফলের)"
            ]
          },
          "execution_count": 223,
          "metadata": {},
          "output_type": "execute_result"
        }
      ],
      "source": [
        "df.head(10)"
      ]
    },
    {
      "cell_type": "code",
      "execution_count": 224,
      "metadata": {
        "id": "MsyyOJ99EQBc"
      },
      "outputs": [],
      "source": [
        "df = df.sample(frac=1, random_state=42).reset_index(drop=True)"
      ]
    },
    {
      "cell_type": "code",
      "execution_count": 225,
      "metadata": {
        "colab": {
          "base_uri": "https://localhost:8080/"
        },
        "id": "xfFhdPSuEnze",
        "outputId": "a676f0e8-bff7-419a-dccf-5e4517399456"
      },
      "outputs": [
        {
          "data": {
            "text/plain": [
              "recommended_food\n",
              "Banana (কলা)                     671\n",
              "Taro (কচু শাক)                   498\n",
              "Orange (কমলা)                    497\n",
              "Spinach (পালং শাক)               487\n",
              "Apple (আপেল)                     453\n",
              "Guava(পেয়ারা)                   419\n",
              "Red Spinach (লালশাক)             355\n",
              "Lemon (লেবু)                     335\n",
              "Carrot (গাজর)                    335\n",
              "Cauliflower (ফুলকপি)             301\n",
              "Cucumber (শসা)                   301\n",
              "Cabbage (বাধাঁকপি)               301\n",
              "Ginger (আদা)                     286\n",
              "Ripe Papaya (পাকা পেঁপে)         260\n",
              "Green Grapes (আঙ্গুর)            245\n",
              "Blood Orange (মাল্টা)            245\n",
              "Water Melon (তরমুজ)              226\n",
              "Long Bean (বরবটি)                193\n",
              "Dates (খেজুর)                    193\n",
              "Bean  (সিম)                      193\n",
              "Malabar Spinach (পুঁই শাক)       177\n",
              "Green Chilli (কাঁচা মরিচ)        169\n",
              "Bottle Groud (লাউ)               166\n",
              "Green Papaya (কাঁচা পেঁপে)       166\n",
              "Tomato (টমেটো)                   166\n",
              "Brinjal (বেগুন)                  166\n",
              "Sweet Pumpkin (মিষ্টি কুমড়া)    166\n",
              "Bottle Gourd Leaf (লাউ শাক)      151\n",
              "Pumpkin Spinach (কুমড়ো শাক)     151\n",
              "Sweet Potato  (মিষ্টি আলু)       151\n",
              "Dragon Fruit (ড্রাগন ফলের)       144\n",
              "Pomegranate (বেদানা)             117\n",
              "Gooseberry (আমলকী)               117\n",
              "Radish (মুলা)                     83\n",
              "Green Peas (মটরশুঁটি)             83\n",
              "White Pear (নাশপাতি)              83\n",
              "Turnip (শালগম)                    83\n",
              "Java Apple (জামরুল)               83\n",
              "Capsicum (মিষ্টি মরিচ)            83\n",
              "Okra (ঢেঁড়স)                     83\n",
              "Bitter Gourd (করলা)               83\n",
              "Pointed Gourd (পটল)               83\n",
              "Name: count, dtype: int64"
            ]
          },
          "execution_count": 225,
          "metadata": {},
          "output_type": "execute_result"
        }
      ],
      "source": [
        "df['recommended_food'].value_counts()"
      ]
    },
    {
      "cell_type": "code",
      "execution_count": 226,
      "metadata": {
        "colab": {
          "base_uri": "https://localhost:8080/"
        },
        "id": "FNt_4C4dE_y9",
        "outputId": "81d8b2b5-aec5-4bcd-9313-9d082a0ea9f1"
      },
      "outputs": [
        {
          "name": "stdout",
          "output_type": "stream",
          "text": [
            "For recommended_food Column\n",
            "{0: 'Apple (আপেল)', 1: 'Banana (কলা)', 2: 'Bean  (সিম)', 3: 'Bitter Gourd (করলা)', 4: 'Blood Orange (মাল্টা)', 5: 'Bottle Gourd Leaf (লাউ শাক)', 6: 'Bottle Groud (লাউ)', 7: 'Brinjal (বেগুন)', 8: 'Cabbage (বাধাঁকপি)', 9: 'Capsicum (মিষ্টি মরিচ)', 10: 'Carrot (গাজর)', 11: 'Cauliflower (ফুলকপি)', 12: 'Cucumber (শসা)', 13: 'Dates (খেজুর)', 14: 'Dragon Fruit (ড্রাগন ফলের)', 15: 'Ginger (আদা)', 16: 'Gooseberry (আমলকী)', 17: 'Green Chilli (কাঁচা মরিচ)', 18: 'Green Grapes (আঙ্গুর)', 19: 'Green Papaya (কাঁচা পেঁপে)', 20: 'Green Peas (মটরশুঁটি)', 21: 'Guava(পেয়ারা)', 22: 'Java Apple (জামরুল)', 23: 'Lemon (লেবু)', 24: 'Long Bean (বরবটি)', 25: 'Malabar Spinach (পুঁই শাক)', 26: 'Okra (ঢেঁড়স)', 27: 'Orange (কমলা)', 28: 'Pointed Gourd (পটল)', 29: 'Pomegranate (বেদানা)', 30: 'Pumpkin Spinach (কুমড়ো শাক)', 31: 'Radish (মুলা)', 32: 'Red Spinach (লালশাক)', 33: 'Ripe Papaya (পাকা পেঁপে)', 34: 'Spinach (পালং শাক)', 35: 'Sweet Potato  (মিষ্টি আলু)', 36: 'Sweet Pumpkin (মিষ্টি কুমড়া)', 37: 'Taro (কচু শাক)', 38: 'Tomato (টমেটো)', 39: 'Turnip (শালগম)', 40: 'Water Melon (তরমুজ)', 41: 'White Pear (নাশপাতি)'}\n"
          ]
        }
      ],
      "source": [
        "from sklearn import preprocessing\n",
        "\n",
        "label_encoder = preprocessing.LabelEncoder()\n",
        "\n",
        "df['food_recommended'] = label_encoder.fit_transform(df['recommended_food'])\n",
        "## printing the label mapping\n",
        "label_mapping = dict(zip(df['food_recommended'],df['recommended_food']))\n",
        "## print in sorted order\n",
        "print('For recommended_food Column')\n",
        "labled_food = dict(sorted(label_mapping.items(), key=lambda item: item[1]))\n",
        "print(dict(sorted(label_mapping.items(), key=lambda item: item[1])));\n",
        "df.drop(columns=['recommended_food'],inplace=True)"
      ]
    },
    {
      "cell_type": "code",
      "execution_count": 227,
      "metadata": {
        "id": "P-HRq77JF2zj"
      },
      "outputs": [],
      "source": [
        "df.to_csv('/home/baymax/Documents/MyCollection/NutriNavigator/mlServer/datasets/food_recommendation.csv', index=False)"
      ]
    },
    {
      "cell_type": "code",
      "execution_count": 228,
      "metadata": {
        "id": "kEVYWY4jGaNE"
      },
      "outputs": [],
      "source": [
        "y = df['food_recommended']\n",
        "X = df.drop(columns=['food_recommended'])"
      ]
    },
    {
      "cell_type": "code",
      "execution_count": 229,
      "metadata": {
        "id": "cfxkyRF1Ho0B"
      },
      "outputs": [],
      "source": [
        "smote = SMOTE(random_state=42,k_neighbors=2)"
      ]
    },
    {
      "cell_type": "code",
      "execution_count": 230,
      "metadata": {
        "id": "T5CSZ6TCHRjd"
      },
      "outputs": [],
      "source": [
        "X, y = smote.fit_resample(X, y)\n",
        "df = pd.concat([X,y], axis=1)\n",
        "df.to_csv('/home/baymax/Documents/MyCollection/NutriNavigator/mlServer/datasets/food_recommendation_balanced.csv',index=False)"
      ]
    },
    {
      "cell_type": "code",
      "execution_count": 231,
      "metadata": {
        "colab": {
          "base_uri": "https://localhost:8080/"
        },
        "id": "TqtqqffQGje-",
        "outputId": "81b6493c-9415-4679-cb64-e6e97c569359"
      },
      "outputs": [
        {
          "name": "stdout",
          "output_type": "stream",
          "text": [
            "x_train:  (19727, 4)\n",
            "x_test:  (8455, 4)\n",
            "y_train:  (19727,)\n",
            "y_test:  (8455,)\n"
          ]
        }
      ],
      "source": [
        "from sklearn.model_selection import train_test_split\n",
        "\n",
        "X_train, X_test, y_train, y_test = train_test_split(X, y, test_size=0.30, stratify=y)\n",
        "\n",
        "# check shape\n",
        "print('x_train: ', X_train.shape)\n",
        "print('x_test: ', X_test.shape)\n",
        "print('y_train: ', y_train.shape)\n",
        "print('y_test: ', y_test.shape)"
      ]
    },
    {
      "cell_type": "code",
      "execution_count": 232,
      "metadata": {
        "colab": {
          "base_uri": "https://localhost:8080/",
          "height": 1000
        },
        "id": "9Ni0zUuoGwzS",
        "outputId": "ff6b249a-39f9-4e95-a377-b0e0e0a79500"
      },
      "outputs": [
        {
          "name": "stdout",
          "output_type": "stream",
          "text": [
            "Test Accuracy 0.5757539917208753\n",
            "Test Classification Report\n",
            "               precision    recall  f1-score   support\n",
            "\n",
            "           0       0.40      0.34      0.37       202\n",
            "           1       0.09      0.05      0.07       201\n",
            "           2       0.59      0.64      0.61       201\n",
            "           3       0.66      0.66      0.66       201\n",
            "           4       0.59      0.59      0.59       201\n",
            "           5       0.64      0.71      0.67       201\n",
            "           6       0.58      0.66      0.62       201\n",
            "           7       0.53      0.48      0.51       201\n",
            "           8       0.49      0.47      0.48       201\n",
            "           9       0.66      0.67      0.67       201\n",
            "          10       0.51      0.48      0.49       202\n",
            "          11       0.47      0.52      0.49       201\n",
            "          12       0.48      0.50      0.49       202\n",
            "          13       0.52      0.55      0.53       202\n",
            "          14       0.70      0.70      0.70       202\n",
            "          15       0.54      0.63      0.58       202\n",
            "          16       0.68      0.70      0.69       202\n",
            "          17       0.72      0.73      0.73       201\n",
            "          18       0.63      0.70      0.67       202\n",
            "          19       0.56      0.60      0.58       201\n",
            "          20       0.67      0.66      0.66       201\n",
            "          21       0.41      0.35      0.38       201\n",
            "          22       0.68      0.69      0.68       202\n",
            "          23       0.44      0.41      0.42       201\n",
            "          24       0.63      0.64      0.64       201\n",
            "          25       0.60      0.62      0.61       201\n",
            "          26       0.60      0.62      0.61       202\n",
            "          27       0.31      0.28      0.30       201\n",
            "          28       0.63      0.69      0.66       201\n",
            "          29       0.69      0.68      0.69       201\n",
            "          30       0.64      0.69      0.67       201\n",
            "          31       0.69      0.71      0.70       201\n",
            "          32       0.49      0.47      0.48       202\n",
            "          33       0.58      0.56      0.57       201\n",
            "          34       0.33      0.26      0.29       201\n",
            "          35       0.68      0.71      0.70       202\n",
            "          36       0.66      0.69      0.67       201\n",
            "          37       0.35      0.29      0.32       201\n",
            "          38       0.64      0.70      0.67       201\n",
            "          39       0.69      0.74      0.71       202\n",
            "          40       0.57      0.63      0.60       201\n",
            "          41       0.72      0.69      0.71       201\n",
            "\n",
            "    accuracy                           0.58      8455\n",
            "   macro avg       0.57      0.58      0.57      8455\n",
            "weighted avg       0.57      0.58      0.57      8455\n",
            "\n"
          ]
        },
        {
          "data": {
            "image/png": "[encoded data removed]",
            "text/plain": [
              "<Figure size 640x480 with 1 Axes>"
            ]
          },
          "metadata": {},
          "output_type": "display_data"
        }
      ],
      "source": [
        "## initializing the Random Forest Classifier\n",
        "RFC_model = RandomForestClassifier(n_estimators = 100)\n",
        "## Train the Random Forest model  with train dataset\n",
        "RFC_model.fit(X_train, y_train)\n",
        "## testing the Random Forest model\n",
        "RFC_ypred = RFC_model.predict(X_test)\n",
        "## printing the Accuracy of the model\n",
        "print(\"Test Accuracy\", accuracy_score(y_test, RFC_ypred))\n",
        "print(\"Test Classification Report\\n\", classification_report(y_test,RFC_ypred))\n",
        "## illustrating the confusion matrix for the prediction of the model\n",
        "mat=confusion_matrix(y_test,RFC_ypred)\n",
        "sns.heatmap(mat,annot=False, cbar=False,cmap=\"Blues\")\n",
        "plt.show()"
      ]
    },
    {
      "cell_type": "code",
      "execution_count": 233,
      "metadata": {
        "id": "0HbwssMVG72H"
      },
      "outputs": [],
      "source": [
        "## recommendation part\n",
        "\n",
        "df = pd.read_csv('/home/baymax/Documents/MyCollection/NutriNavigator/mlServer/datasets/food_recommendation_balanced.csv')"
      ]
    },
    {
      "cell_type": "code",
      "execution_count": 234,
      "metadata": {
        "colab": {
          "base_uri": "https://localhost:8080/",
          "height": 75
        },
        "id": "ko8iK3VGJtpe",
        "outputId": "b53f7497-a711-4c44-c02f-89dec6915000"
      },
      "outputs": [
        {
          "data": {
            "text/html": [
              "<style>#sk-container-id-3 {\n",
              "  /* Definition of color scheme common for light and dark mode */\n",
              "  --sklearn-color-text: black;\n",
              "  --sklearn-color-line: gray;\n",
              "  /* Definition of color scheme for unfitted estimators */\n",
              "  --sklearn-color-unfitted-level-0: #fff5e6;\n",
              "  --sklearn-color-unfitted-level-1: #f6e4d2;\n",
              "  --sklearn-color-unfitted-level-2: #ffe0b3;\n",
              "  --sklearn-color-unfitted-level-3: chocolate;\n",
              "  /* Definition of color scheme for fitted estimators */\n",
              "  --sklearn-color-fitted-level-0: #f0f8ff;\n",
              "  --sklearn-color-fitted-level-1: #d4ebff;\n",
              "  --sklearn-color-fitted-level-2: #b3dbfd;\n",
              "  --sklearn-color-fitted-level-3: cornflowerblue;\n",
              "\n",
              "  /* Specific color for light theme */\n",
              "  --sklearn-color-text-on-default-background: var(--sg-text-color, var(--theme-code-foreground, var(--jp-content-font-color1, black)));\n",
              "  --sklearn-color-background: var(--sg-background-color, var(--theme-background, var(--jp-layout-color0, white)));\n",
              "  --sklearn-color-border-box: var(--sg-text-color, var(--theme-code-foreground, var(--jp-content-font-color1, black)));\n",
              "  --sklearn-color-icon: #696969;\n",
              "\n",
              "  @media (prefers-color-scheme: dark) {\n",
              "    /* Redefinition of color scheme for dark theme */\n",
              "    --sklearn-color-text-on-default-background: var(--sg-text-color, var(--theme-code-foreground, var(--jp-content-font-color1, white)));\n",
              "    --sklearn-color-background: var(--sg-background-color, var(--theme-background, var(--jp-layout-color0, #111)));\n",
              "    --sklearn-color-border-box: var(--sg-text-color, var(--theme-code-foreground, var(--jp-content-font-color1, white)));\n",
              "    --sklearn-color-icon: #878787;\n",
              "  }\n",
              "}\n",
              "\n",
              "#sk-container-id-3 {\n",
              "  color: var(--sklearn-color-text);\n",
              "}\n",
              "\n",
              "#sk-container-id-3 pre {\n",
              "  padding: 0;\n",
              "}\n",
              "\n",
              "#sk-container-id-3 input.sk-hidden--visually {\n",
              "  border: 0;\n",
              "  clip: rect(1px 1px 1px 1px);\n",
              "  clip: rect(1px, 1px, 1px, 1px);\n",
              "  height: 1px;\n",
              "  margin: -1px;\n",
              "  overflow: hidden;\n",
              "  padding: 0;\n",
              "  position: absolute;\n",
              "  width: 1px;\n",
              "}\n",
              "\n",
              "#sk-container-id-3 div.sk-dashed-wrapped {\n",
              "  border: 1px dashed var(--sklearn-color-line);\n",
              "  margin: 0 0.4em 0.5em 0.4em;\n",
              "  box-sizing: border-box;\n",
              "  padding-bottom: 0.4em;\n",
              "  background-color: var(--sklearn-color-background);\n",
              "}\n",
              "\n",
              "#sk-container-id-3 div.sk-container {\n",
              "  /* jupyter's `normalize.less` sets `[hidden] { display: none; }`\n",
              "     but bootstrap.min.css set `[hidden] { display: none !important; }`\n",
              "     so we also need the `!important` here to be able to override the\n",
              "     default hidden behavior on the sphinx rendered scikit-learn.org.\n",
              "     See: https://github.com/scikit-learn/scikit-learn/issues/21755 */\n",
              "  display: inline-block !important;\n",
              "  position: relative;\n",
              "}\n",
              "\n",
              "#sk-container-id-3 div.sk-text-repr-fallback {\n",
              "  display: none;\n",
              "}\n",
              "\n",
              "div.sk-parallel-item,\n",
              "div.sk-serial,\n",
              "div.sk-item {\n",
              "  /* draw centered vertical line to link estimators */\n",
              "  background-image: linear-gradient(var(--sklearn-color-text-on-default-background), var(--sklearn-color-text-on-default-background));\n",
              "  background-size: 2px 100%;\n",
              "  background-repeat: no-repeat;\n",
              "  background-position: center center;\n",
              "}\n",
              "\n",
              "/* Parallel-specific style estimator block */\n",
              "\n",
              "#sk-container-id-3 div.sk-parallel-item::after {\n",
              "  content: \"\";\n",
              "  width: 100%;\n",
              "  border-bottom: 2px solid var(--sklearn-color-text-on-default-background);\n",
              "  flex-grow: 1;\n",
              "}\n",
              "\n",
              "#sk-container-id-3 div.sk-parallel {\n",
              "  display: flex;\n",
              "  align-items: stretch;\n",
              "  justify-content: center;\n",
              "  background-color: var(--sklearn-color-background);\n",
              "  position: relative;\n",
              "}\n",
              "\n",
              "#sk-container-id-3 div.sk-parallel-item {\n",
              "  display: flex;\n",
              "  flex-direction: column;\n",
              "}\n",
              "\n",
              "#sk-container-id-3 div.sk-parallel-item:first-child::after {\n",
              "  align-self: flex-end;\n",
              "  width: 50%;\n",
              "}\n",
              "\n",
              "#sk-container-id-3 div.sk-parallel-item:last-child::after {\n",
              "  align-self: flex-start;\n",
              "  width: 50%;\n",
              "}\n",
              "\n",
              "#sk-container-id-3 div.sk-parallel-item:only-child::after {\n",
              "  width: 0;\n",
              "}\n",
              "\n",
              "/* Serial-specific style estimator block */\n",
              "\n",
              "#sk-container-id-3 div.sk-serial {\n",
              "  display: flex;\n",
              "  flex-direction: column;\n",
              "  align-items: center;\n",
              "  background-color: var(--sklearn-color-background);\n",
              "  padding-right: 1em;\n",
              "  padding-left: 1em;\n",
              "}\n",
              "\n",
              "\n",
              "/* Toggleable style: style used for estimator/Pipeline/ColumnTransformer box that is\n",
              "clickable and can be expanded/collapsed.\n",
              "- Pipeline and ColumnTransformer use this feature and define the default style\n",
              "- Estimators will overwrite some part of the style using the `sk-estimator` class\n",
              "*/\n",
              "\n",
              "/* Pipeline and ColumnTransformer style (default) */\n",
              "\n",
              "#sk-container-id-3 div.sk-toggleable {\n",
              "  /* Default theme specific background. It is overwritten whether we have a\n",
              "  specific estimator or a Pipeline/ColumnTransformer */\n",
              "  background-color: var(--sklearn-color-background);\n",
              "}\n",
              "\n",
              "/* Toggleable label */\n",
              "#sk-container-id-3 label.sk-toggleable__label {\n",
              "  cursor: pointer;\n",
              "  display: block;\n",
              "  width: 100%;\n",
              "  margin-bottom: 0;\n",
              "  padding: 0.5em;\n",
              "  box-sizing: border-box;\n",
              "  text-align: center;\n",
              "}\n",
              "\n",
              "#sk-container-id-3 label.sk-toggleable__label-arrow:before {\n",
              "  /* Arrow on the left of the label */\n",
              "  content: \"▸\";\n",
              "  float: left;\n",
              "  margin-right: 0.25em;\n",
              "  color: var(--sklearn-color-icon);\n",
              "}\n",
              "\n",
              "#sk-container-id-3 label.sk-toggleable__label-arrow:hover:before {\n",
              "  color: var(--sklearn-color-text);\n",
              "}\n",
              "\n",
              "/* Toggleable content - dropdown */\n",
              "\n",
              "#sk-container-id-3 div.sk-toggleable__content {\n",
              "  max-height: 0;\n",
              "  max-width: 0;\n",
              "  overflow: hidden;\n",
              "  text-align: left;\n",
              "  /* unfitted */\n",
              "  background-color: var(--sklearn-color-unfitted-level-0);\n",
              "}\n",
              "\n",
              "#sk-container-id-3 div.sk-toggleable__content.fitted {\n",
              "  /* fitted */\n",
              "  background-color: var(--sklearn-color-fitted-level-0);\n",
              "}\n",
              "\n",
              "#sk-container-id-3 div.sk-toggleable__content pre {\n",
              "  margin: 0.2em;\n",
              "  border-radius: 0.25em;\n",
              "  color: var(--sklearn-color-text);\n",
              "  /* unfitted */\n",
              "  background-color: var(--sklearn-color-unfitted-level-0);\n",
              "}\n",
              "\n",
              "#sk-container-id-3 div.sk-toggleable__content.fitted pre {\n",
              "  /* unfitted */\n",
              "  background-color: var(--sklearn-color-fitted-level-0);\n",
              "}\n",
              "\n",
              "#sk-container-id-3 input.sk-toggleable__control:checked~div.sk-toggleable__content {\n",
              "  /* Expand drop-down */\n",
              "  max-height: 200px;\n",
              "  max-width: 100%;\n",
              "  overflow: auto;\n",
              "}\n",
              "\n",
              "#sk-container-id-3 input.sk-toggleable__control:checked~label.sk-toggleable__label-arrow:before {\n",
              "  content: \"▾\";\n",
              "}\n",
              "\n",
              "/* Pipeline/ColumnTransformer-specific style */\n",
              "\n",
              "#sk-container-id-3 div.sk-label input.sk-toggleable__control:checked~label.sk-toggleable__label {\n",
              "  color: var(--sklearn-color-text);\n",
              "  background-color: var(--sklearn-color-unfitted-level-2);\n",
              "}\n",
              "\n",
              "#sk-container-id-3 div.sk-label.fitted input.sk-toggleable__control:checked~label.sk-toggleable__label {\n",
              "  background-color: var(--sklearn-color-fitted-level-2);\n",
              "}\n",
              "\n",
              "/* Estimator-specific style */\n",
              "\n",
              "/* Colorize estimator box */\n",
              "#sk-container-id-3 div.sk-estimator input.sk-toggleable__control:checked~label.sk-toggleable__label {\n",
              "  /* unfitted */\n",
              "  background-color: var(--sklearn-color-unfitted-level-2);\n",
              "}\n",
              "\n",
              "#sk-container-id-3 div.sk-estimator.fitted input.sk-toggleable__control:checked~label.sk-toggleable__label {\n",
              "  /* fitted */\n",
              "  background-color: var(--sklearn-color-fitted-level-2);\n",
              "}\n",
              "\n",
              "#sk-container-id-3 div.sk-label label.sk-toggleable__label,\n",
              "#sk-container-id-3 div.sk-label label {\n",
              "  /* The background is the default theme color */\n",
              "  color: var(--sklearn-color-text-on-default-background);\n",
              "}\n",
              "\n",
              "/* On hover, darken the color of the background */\n",
              "#sk-container-id-3 div.sk-label:hover label.sk-toggleable__label {\n",
              "  color: var(--sklearn-color-text);\n",
              "  background-color: var(--sklearn-color-unfitted-level-2);\n",
              "}\n",
              "\n",
              "/* Label box, darken color on hover, fitted */\n",
              "#sk-container-id-3 div.sk-label.fitted:hover label.sk-toggleable__label.fitted {\n",
              "  color: var(--sklearn-color-text);\n",
              "  background-color: var(--sklearn-color-fitted-level-2);\n",
              "}\n",
              "\n",
              "/* Estimator label */\n",
              "\n",
              "#sk-container-id-3 div.sk-label label {\n",
              "  font-family: monospace;\n",
              "  font-weight: bold;\n",
              "  display: inline-block;\n",
              "  line-height: 1.2em;\n",
              "}\n",
              "\n",
              "#sk-container-id-3 div.sk-label-container {\n",
              "  text-align: center;\n",
              "}\n",
              "\n",
              "/* Estimator-specific */\n",
              "#sk-container-id-3 div.sk-estimator {\n",
              "  font-family: monospace;\n",
              "  border: 1px dotted var(--sklearn-color-border-box);\n",
              "  border-radius: 0.25em;\n",
              "  box-sizing: border-box;\n",
              "  margin-bottom: 0.5em;\n",
              "  /* unfitted */\n",
              "  background-color: var(--sklearn-color-unfitted-level-0);\n",
              "}\n",
              "\n",
              "#sk-container-id-3 div.sk-estimator.fitted {\n",
              "  /* fitted */\n",
              "  background-color: var(--sklearn-color-fitted-level-0);\n",
              "}\n",
              "\n",
              "/* on hover */\n",
              "#sk-container-id-3 div.sk-estimator:hover {\n",
              "  /* unfitted */\n",
              "  background-color: var(--sklearn-color-unfitted-level-2);\n",
              "}\n",
              "\n",
              "#sk-container-id-3 div.sk-estimator.fitted:hover {\n",
              "  /* fitted */\n",
              "  background-color: var(--sklearn-color-fitted-level-2);\n",
              "}\n",
              "\n",
              "/* Specification for estimator info (e.g. \"i\" and \"?\") */\n",
              "\n",
              "/* Common style for \"i\" and \"?\" */\n",
              "\n",
              ".sk-estimator-doc-link,\n",
              "a:link.sk-estimator-doc-link,\n",
              "a:visited.sk-estimator-doc-link {\n",
              "  float: right;\n",
              "  font-size: smaller;\n",
              "  line-height: 1em;\n",
              "  font-family: monospace;\n",
              "  background-color: var(--sklearn-color-background);\n",
              "  border-radius: 1em;\n",
              "  height: 1em;\n",
              "  width: 1em;\n",
              "  text-decoration: none !important;\n",
              "  margin-left: 1ex;\n",
              "  /* unfitted */\n",
              "  border: var(--sklearn-color-unfitted-level-1) 1pt solid;\n",
              "  color: var(--sklearn-color-unfitted-level-1);\n",
              "}\n",
              "\n",
              ".sk-estimator-doc-link.fitted,\n",
              "a:link.sk-estimator-doc-link.fitted,\n",
              "a:visited.sk-estimator-doc-link.fitted {\n",
              "  /* fitted */\n",
              "  border: var(--sklearn-color-fitted-level-1) 1pt solid;\n",
              "  color: var(--sklearn-color-fitted-level-1);\n",
              "}\n",
              "\n",
              "/* On hover */\n",
              "div.sk-estimator:hover .sk-estimator-doc-link:hover,\n",
              ".sk-estimator-doc-link:hover,\n",
              "div.sk-label-container:hover .sk-estimator-doc-link:hover,\n",
              ".sk-estimator-doc-link:hover {\n",
              "  /* unfitted */\n",
              "  background-color: var(--sklearn-color-unfitted-level-3);\n",
              "  color: var(--sklearn-color-background);\n",
              "  text-decoration: none;\n",
              "}\n",
              "\n",
              "div.sk-estimator.fitted:hover .sk-estimator-doc-link.fitted:hover,\n",
              ".sk-estimator-doc-link.fitted:hover,\n",
              "div.sk-label-container:hover .sk-estimator-doc-link.fitted:hover,\n",
              ".sk-estimator-doc-link.fitted:hover {\n",
              "  /* fitted */\n",
              "  background-color: var(--sklearn-color-fitted-level-3);\n",
              "  color: var(--sklearn-color-background);\n",
              "  text-decoration: none;\n",
              "}\n",
              "\n",
              "/* Span, style for the box shown on hovering the info icon */\n",
              ".sk-estimator-doc-link span {\n",
              "  display: none;\n",
              "  z-index: 9999;\n",
              "  position: relative;\n",
              "  font-weight: normal;\n",
              "  right: .2ex;\n",
              "  padding: .5ex;\n",
              "  margin: .5ex;\n",
              "  width: min-content;\n",
              "  min-width: 20ex;\n",
              "  max-width: 50ex;\n",
              "  color: var(--sklearn-color-text);\n",
              "  box-shadow: 2pt 2pt 4pt #999;\n",
              "  /* unfitted */\n",
              "  background: var(--sklearn-color-unfitted-level-0);\n",
              "  border: .5pt solid var(--sklearn-color-unfitted-level-3);\n",
              "}\n",
              "\n",
              ".sk-estimator-doc-link.fitted span {\n",
              "  /* fitted */\n",
              "  background: var(--sklearn-color-fitted-level-0);\n",
              "  border: var(--sklearn-color-fitted-level-3);\n",
              "}\n",
              "\n",
              ".sk-estimator-doc-link:hover span {\n",
              "  display: block;\n",
              "}\n",
              "\n",
              "/* \"?\"-specific style due to the `<a>` HTML tag */\n",
              "\n",
              "#sk-container-id-3 a.estimator_doc_link {\n",
              "  float: right;\n",
              "  font-size: 1rem;\n",
              "  line-height: 1em;\n",
              "  font-family: monospace;\n",
              "  background-color: var(--sklearn-color-background);\n",
              "  border-radius: 1rem;\n",
              "  height: 1rem;\n",
              "  width: 1rem;\n",
              "  text-decoration: none;\n",
              "  /* unfitted */\n",
              "  color: var(--sklearn-color-unfitted-level-1);\n",
              "  border: var(--sklearn-color-unfitted-level-1) 1pt solid;\n",
              "}\n",
              "\n",
              "#sk-container-id-3 a.estimator_doc_link.fitted {\n",
              "  /* fitted */\n",
              "  border: var(--sklearn-color-fitted-level-1) 1pt solid;\n",
              "  color: var(--sklearn-color-fitted-level-1);\n",
              "}\n",
              "\n",
              "/* On hover */\n",
              "#sk-container-id-3 a.estimator_doc_link:hover {\n",
              "  /* unfitted */\n",
              "  background-color: var(--sklearn-color-unfitted-level-3);\n",
              "  color: var(--sklearn-color-background);\n",
              "  text-decoration: none;\n",
              "}\n",
              "\n",
              "#sk-container-id-3 a.estimator_doc_link.fitted:hover {\n",
              "  /* fitted */\n",
              "  background-color: var(--sklearn-color-fitted-level-3);\n",
              "}\n",
              "</style><div id=\"sk-container-id-3\" class=\"sk-top-container\"><div class=\"sk-text-repr-fallback\"><pre>RandomForestClassifier()</pre><b>In a Jupyter environment, please rerun this cell to show the HTML representation or trust the notebook. <br />On GitHub, the HTML representation is unable to render, please try loading this page with nbviewer.org.</b></div><div class=\"sk-container\" hidden><div class=\"sk-item\"><div class=\"sk-estimator fitted sk-toggleable\"><input class=\"sk-toggleable__control sk-hidden--visually\" id=\"sk-estimator-id-3\" type=\"checkbox\" checked><label for=\"sk-estimator-id-3\" class=\"sk-toggleable__label fitted sk-toggleable__label-arrow fitted\">&nbsp;&nbsp;RandomForestClassifier<a class=\"sk-estimator-doc-link fitted\" rel=\"noreferrer\" target=\"_blank\" href=\"https://scikit-learn.org/1.4/modules/generated/sklearn.ensemble.RandomForestClassifier.html\">?<span>Documentation for RandomForestClassifier</span></a><span class=\"sk-estimator-doc-link fitted\">i<span>Fitted</span></span></label><div class=\"sk-toggleable__content fitted\"><pre>RandomForestClassifier()</pre></div> </div></div></div></div>"
            ],
            "text/plain": [
              "RandomForestClassifier()"
            ]
          },
          "execution_count": 234,
          "metadata": {},
          "output_type": "execute_result"
        }
      ],
      "source": [
        "## initializing the Random Forest Classifier\n",
        "RFC_model = RandomForestClassifier(n_estimators = 100)\n",
        "## Train the Random Forest model  with train dataset\n",
        "RFC_model.fit(df.drop(columns=['food_recommended']),df['food_recommended'])"
      ]
    },
    {
      "cell_type": "code",
      "execution_count": 235,
      "metadata": {
        "id": "QkXDN_HAUBRy"
      },
      "outputs": [],
      "source": [
        "import pickle\n",
        "## save model with pickle\n",
        "with open('/home/baymax/Documents/MyCollection/NutriNavigator/mlServer/models/model_pickle','wb') as f :\n",
        "    pickle.dump(RFC_model,f)"
      ]
    },
    {
      "cell_type": "code",
      "execution_count": 236,
      "metadata": {
        "id": "oihsh6n8Ufe6"
      },
      "outputs": [],
      "source": [
        "with open('/home/baymax/Documents/MyCollection/NutriNavigator/mlServer/models/model_pickle','rb') as f :\n",
        "   RFC_model = pickle.load(f)"
      ]
    },
    {
      "cell_type": "code",
      "execution_count": 237,
      "metadata": {
        "colab": {
          "base_uri": "https://localhost:8080/"
        },
        "id": "cUvu_-ULKAnS",
        "outputId": "059b50ac-edc2-4673-87af-eb95bc97efdc"
      },
      "outputs": [
        {
          "name": "stderr",
          "output_type": "stream",
          "text": [
            "/home/baymax/Documents/MyCollection/NutriNavigator/mlServer/.venv/lib/python3.10/site-packages/sklearn/base.py:493: UserWarning: X does not have valid feature names, but RandomForestClassifier was fitted with feature names\n",
            "  warnings.warn(\n"
          ]
        }
      ],
      "source": [
        "ypred = RFC_model.predict([[20,29.5,0,5]])"
      ]
    },
    {
      "cell_type": "code",
      "execution_count": 238,
      "metadata": {
        "colab": {
          "base_uri": "https://localhost:8080/"
        },
        "id": "2Zdf62ddMQh3",
        "outputId": "abbd383a-4fef-450e-e656-60fe8a600563"
      },
      "outputs": [
        {
          "data": {
            "text/plain": [
              "array([1])"
            ]
          },
          "execution_count": 238,
          "metadata": {},
          "output_type": "execute_result"
        }
      ],
      "source": [
        "ypred"
      ]
    },
    {
      "cell_type": "code",
      "execution_count": 239,
      "metadata": {
        "colab": {
          "base_uri": "https://localhost:8080/"
        },
        "id": "cD2unch1MsDK",
        "outputId": "0ff7ae71-fb16-41ee-c1f5-32fab90d32e8"
      },
      "outputs": [
        {
          "name": "stderr",
          "output_type": "stream",
          "text": [
            "/home/baymax/Documents/MyCollection/NutriNavigator/mlServer/.venv/lib/python3.10/site-packages/sklearn/base.py:493: UserWarning: X does not have valid feature names, but RandomForestClassifier was fitted with feature names\n",
            "  warnings.warn(\n"
          ]
        }
      ],
      "source": [
        "classify_percentage = RFC_model.predict_proba([[20,29.5,0,5]])"
      ]
    },
    {
      "cell_type": "code",
      "execution_count": 240,
      "metadata": {
        "colab": {
          "base_uri": "https://localhost:8080/"
        },
        "id": "WocuA25FM3K-",
        "outputId": "db190fe2-eb0e-4ac0-a12d-19bc31b716c2"
      },
      "outputs": [
        {
          "data": {
            "text/plain": [
              "array([0.  , 0.35, 0.  , 0.  , 0.  , 0.  , 0.  , 0.  , 0.01, 0.  , 0.06,\n",
              "       0.  , 0.  , 0.01, 0.  , 0.  , 0.  , 0.  , 0.  , 0.  , 0.  , 0.22,\n",
              "       0.  , 0.03, 0.  , 0.02, 0.  , 0.  , 0.  , 0.  , 0.  , 0.  , 0.  ,\n",
              "       0.  , 0.11, 0.  , 0.  , 0.19, 0.  , 0.  , 0.  , 0.  ])"
            ]
          },
          "execution_count": 240,
          "metadata": {},
          "output_type": "execute_result"
        }
      ],
      "source": [
        "classify_percentage[0]"
      ]
    },
    {
      "cell_type": "code",
      "execution_count": 241,
      "metadata": {
        "id": "xdSuqDBCM54D"
      },
      "outputs": [],
      "source": [
        "indexes = np.where(classify_percentage > 0.0)[1]"
      ]
    },
    {
      "cell_type": "code",
      "execution_count": 242,
      "metadata": {
        "colab": {
          "base_uri": "https://localhost:8080/"
        },
        "id": "cxdpNgk3Nv3U",
        "outputId": "964f6a7e-8155-4308-bcb7-120bb5d23d70"
      },
      "outputs": [
        {
          "data": {
            "text/plain": [
              "array([ 1,  8, 10, 13, 21, 23, 25, 34, 37])"
            ]
          },
          "execution_count": 242,
          "metadata": {},
          "output_type": "execute_result"
        }
      ],
      "source": [
        "indexes"
      ]
    },
    {
      "cell_type": "code",
      "execution_count": 243,
      "metadata": {
        "colab": {
          "base_uri": "https://localhost:8080/"
        },
        "id": "kKauWrJxNxqG",
        "outputId": "21d182a8-001f-4946-b469-15b5d07cf7ad"
      },
      "outputs": [
        {
          "name": "stdout",
          "output_type": "stream",
          "text": [
            "Banana (কলা)\n",
            "Cabbage (বাধাঁকপি)\n",
            "Carrot (গাজর)\n",
            "Dates (খেজুর)\n",
            "Guava(পেয়ারা)\n",
            "Lemon (লেবু)\n",
            "Malabar Spinach (পুঁই শাক)\n",
            "Spinach (পালং শাক)\n",
            "Taro (কচু শাক)\n"
          ]
        }
      ],
      "source": [
        "for idx in indexes :\n",
        "  print(labled_food[idx])"
      ]
    }
  ],
  "metadata": {
    "colab": {
      "provenance": []
    },
    "kernelspec": {
      "display_name": "Python 3",
      "name": "python3"
    },
    "language_info": {
      "codemirror_mode": {
        "name": "ipython",
        "version": 3
      },
      "file_extension": ".py",
      "mimetype": "text/x-python",
      "name": "python",
      "nbconvert_exporter": "python",
      "pygments_lexer": "ipython3",
      "version": "3.10.12"
    }
  },
  "nbformat": 4,
  "nbformat_minor": 0
}
